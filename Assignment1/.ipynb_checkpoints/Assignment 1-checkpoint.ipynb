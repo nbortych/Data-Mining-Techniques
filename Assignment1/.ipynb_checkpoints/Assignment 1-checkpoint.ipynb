{
 "cells": [
  {
   "cell_type": "code",
   "execution_count": 136,
   "metadata": {},
   "outputs": [
    {
     "name": "stdout",
     "output_type": "stream",
     "text": [
      "Requirement already satisfied: xgboost in /Users/nikitabortych/anaconda/lib/python3.6/site-packages/xgboost-0.83.dev0-py3.6.egg (0.83.dev0)\r\n",
      "Requirement already satisfied: numpy in /Users/nikitabortych/anaconda/lib/python3.6/site-packages (from xgboost) (1.14.3)\r\n",
      "Requirement already satisfied: scipy in /Users/nikitabortych/anaconda/lib/python3.6/site-packages (from xgboost) (1.1.0)\r\n"
     ]
    }
   ],
   "source": [
    "import numpy as np\n",
    "import pandas as pd\n",
    "import matplotlib.pyplot as plt\n",
    "! pip3 install xgboost\n",
    "from xgboost import XGBRegressor\n",
    "from sklearn.model_selection import train_test_split\n",
    "from sklearn.metrics import accuracy_score, mean_squared_error\n"
   ]
  },
  {
   "cell_type": "code",
   "execution_count": 137,
   "metadata": {},
   "outputs": [
    {
     "name": "stdout",
     "output_type": "stream",
     "text": [
      "376912\n"
     ]
    },
    {
     "data": {
      "text/html": [
       "<div>\n",
       "<table border=\"1\" class=\"dataframe\">\n",
       "  <thead>\n",
       "    <tr style=\"text-align: right;\">\n",
       "      <th></th>\n",
       "      <th>Unnamed: 0</th>\n",
       "      <th>id</th>\n",
       "      <th>time</th>\n",
       "      <th>variable</th>\n",
       "      <th>value</th>\n",
       "    </tr>\n",
       "  </thead>\n",
       "  <tbody>\n",
       "    <tr>\n",
       "      <th>0</th>\n",
       "      <td>1</td>\n",
       "      <td>AS14.01</td>\n",
       "      <td>2014-02-26 13:00:00.000</td>\n",
       "      <td>mood</td>\n",
       "      <td>6.0</td>\n",
       "    </tr>\n",
       "    <tr>\n",
       "      <th>1</th>\n",
       "      <td>2</td>\n",
       "      <td>AS14.01</td>\n",
       "      <td>2014-02-26 15:00:00.000</td>\n",
       "      <td>mood</td>\n",
       "      <td>6.0</td>\n",
       "    </tr>\n",
       "    <tr>\n",
       "      <th>2</th>\n",
       "      <td>3</td>\n",
       "      <td>AS14.01</td>\n",
       "      <td>2014-02-26 18:00:00.000</td>\n",
       "      <td>mood</td>\n",
       "      <td>6.0</td>\n",
       "    </tr>\n",
       "    <tr>\n",
       "      <th>3</th>\n",
       "      <td>4</td>\n",
       "      <td>AS14.01</td>\n",
       "      <td>2014-02-26 21:00:00.000</td>\n",
       "      <td>mood</td>\n",
       "      <td>7.0</td>\n",
       "    </tr>\n",
       "    <tr>\n",
       "      <th>4</th>\n",
       "      <td>5</td>\n",
       "      <td>AS14.01</td>\n",
       "      <td>2014-02-27 09:00:00.000</td>\n",
       "      <td>mood</td>\n",
       "      <td>6.0</td>\n",
       "    </tr>\n",
       "  </tbody>\n",
       "</table>\n",
       "</div>"
      ],
      "text/plain": [
       "   Unnamed: 0       id                     time variable  value\n",
       "0           1  AS14.01  2014-02-26 13:00:00.000     mood    6.0\n",
       "1           2  AS14.01  2014-02-26 15:00:00.000     mood    6.0\n",
       "2           3  AS14.01  2014-02-26 18:00:00.000     mood    6.0\n",
       "3           4  AS14.01  2014-02-26 21:00:00.000     mood    7.0\n",
       "4           5  AS14.01  2014-02-27 09:00:00.000     mood    6.0"
      ]
     },
     "execution_count": 137,
     "metadata": {},
     "output_type": "execute_result"
    }
   ],
   "source": [
    "data = pd.read_csv('Data/dataset_mood_smartphone.csv')\n",
    "print(len(data))\n",
    "data.head()"
   ]
  },
  {
   "cell_type": "code",
   "execution_count": 4,
   "metadata": {},
   "outputs": [
    {
     "name": "stdout",
     "output_type": "stream",
     "text": [
      "There are 27 users in this dataset\n",
      "Tere are 19 variables in this dataset and these variables are ['mood' 'circumplex.arousal' 'circumplex.valence' 'activity' 'screen'\n",
      " 'call' 'sms' 'appCat.builtin' 'appCat.communication'\n",
      " 'appCat.entertainment' 'appCat.finance' 'appCat.game' 'appCat.office'\n",
      " 'appCat.other' 'appCat.social' 'appCat.travel' 'appCat.unknown'\n",
      " 'appCat.utilities' 'appCat.weather']\n",
      "The average num of timesteps per user is 13959.7\n"
     ]
    }
   ],
   "source": [
    "print(\"There are {} users in this dataset\".format(len(data[\"id\"].unique())))\n",
    "print(\"Tere are {} variables in this dataset and these variables are {}\".format(len(data[\"variable\"].unique()), data[\"variable\"].unique()))\n",
    "users = data[\"id\"].unique()\n",
    "average_num_of_timesteps = np.mean([len(data[data[\"id\"]==user]) for user in users])\n",
    "print(\"The average num of timesteps per user is {:.6}\".format(average_num_of_timesteps))\n"
   ]
  },
  {
   "cell_type": "code",
   "execution_count": 5,
   "metadata": {},
   "outputs": [
    {
     "name": "stdout",
     "output_type": "stream",
     "text": [
      "Average mood is 6.993 with std of 1.033\n"
     ]
    },
    {
     "data": {
      "image/png": "[encoded data removed]",
      "text/plain": [
       "<matplotlib.figure.Figure at 0x11332f860>"
      ]
     },
     "metadata": {},
     "output_type": "display_data"
    }
   ],
   "source": [
    "mood_values = data[data[\"variable\"]==\"mood\"][\"value\"]\n",
    "print(\"Average mood is {:.4} with std of {:.4}\".format(np.mean(mood_values), np.std(mood_values)))\n",
    "plt.hist(mood_values)\n",
    "plt.xlabel(\"Mood value\")\n",
    "plt.show()"
   ]
  },
  {
   "cell_type": "code",
   "execution_count": 6,
   "metadata": {},
   "outputs": [
    {
     "name": "stdout",
     "output_type": "stream",
     "text": [
      "Average mood per user is 6.995 with std of 0.377\n"
     ]
    },
    {
     "data": {
      "image/png": "[encoded data removed]",
      "text/plain": [
       "<matplotlib.figure.Figure at 0x103242da0>"
      ]
     },
     "metadata": {},
     "output_type": "display_data"
    }
   ],
   "source": [
    "mood_values_per_user = data[data[\"variable\"]==\"mood\"].groupby(by=\"id\")['value'].mean()\n",
    "print(\"Average mood per user is {:.4} with std of {:.4}\".format(np.mean(mood_values_per_user), np.std(mood_values_per_user)))\n",
    "plt.hist(mood_values_per_user)\n",
    "plt.show()\n",
    "\n"
   ]
  },
  {
   "cell_type": "code",
   "execution_count": 8,
   "metadata": {},
   "outputs": [
    {
     "name": "stdout",
     "output_type": "stream",
     "text": [
      "same\n"
     ]
    }
   ],
   "source": [
    "#helper function to compare two dates, obsolete\n",
    "\n",
    "def slice(datum, x = 10):\n",
    "    return datum[:x]\n",
    "\n",
    "def get_date_data_frame(data):\n",
    "    return pd.DataFrame(list(map(slice , data[\"time\"])))\n",
    "\n",
    "dates = get_date_data_frame(data)[:2]\n",
    "bigger_date = compare_two_dates(dates.iloc(0)[0][0], dates.iloc(1)[0][0])\n",
    "print(bigger_date)\n",
    "\n"
   ]
  },
  {
   "cell_type": "code",
   "execution_count": 138,
   "metadata": {},
   "outputs": [
    {
     "data": {
      "image/png": "[encoded data removed]",
      "text/plain": [
       "<matplotlib.figure.Figure at 0x120ca1080>"
      ]
     },
     "metadata": {},
     "output_type": "display_data"
    }
   ],
   "source": [
    "#getting dates and setting them as indexis\n",
    "data[\"date\"] = get_date_data_frame(data)\n",
    "data['date'] = pd.to_datetime(data['date'])\n",
    "data= data.set_index(['id', 'date'])\n",
    "\n",
    "data[data['variable']=='mood']['value'].groupby(level = 'date').mean().plot()\n",
    "plt.show()"
   ]
  },
  {
   "cell_type": "markdown",
   "metadata": {},
   "source": [
    "Features to investigate and how to aggregate. <br />\n",
    "Mood = average per day, average for t days <br /> circumplex.arousal = average<br /> circumplex.valence = average <br />\n",
    "activity = average per day <br />\n",
    "screen = sum per day,  average along several days, sum along days <br />\n",
    "call = sum per day, average along several days, sum along days <br />\n",
    "sms = sum per day, average along several days, sum along days <br />\n",
    "for each in ['appCat.builtin' 'appCat.communication'\n",
    " 'appCat.entertainment' 'appCat.finance' 'appCat.game' 'appCat.office'\n",
    " 'appCat.other' 'appCat.social' 'appCat.travel' 'appCat.unknown'\n",
    " 'appCat.utilities' 'appCat.weather']:\n",
    " sum per day.  <br />\n",
    " \n",
    " Also days which are closer to t can be scored higher\n",
    " "
   ]
  },
  {
   "cell_type": "code",
   "execution_count": 139,
   "metadata": {},
   "outputs": [],
   "source": [
    "variables = data['variable'].unique()\n",
    "#generating new df\n",
    "date_data = pd.DataFrame(index = data.index)\n",
    "sum_variables =  [ 'screen',\n",
    " 'call', 'sms' ,'appCat.builtin', 'appCat.communication',\n",
    " 'appCat.entertainment', 'appCat.finance', 'appCat.game' ,'appCat.office',\n",
    " 'appCat.other', 'appCat.social', 'appCat.travel' ,'appCat.unknown',\n",
    " 'appCat.utilities' ,'appCat.weather']\n",
    "mean_variables = ['mood', 'circumplex.arousal', 'circumplex.valence', 'activity']\n",
    "#grouping by id and date. creating a column for value for that day with either mean or sum (described in markdown)\n",
    "for variable in variables:\n",
    "    if variable in sum_variables:\n",
    "        date_data[variable] = data[data['variable']==variable].groupby(level = ['id', 'date'])['value'].sum()#.reset_index(level=['id']).resample('D').sum()\n",
    "    elif variable in mean_variables:\n",
    "        date_data[variable] = data[data['variable']==variable].groupby(level = ['id', 'date'])['value'].mean()#.reset_index(level=['id']).resample('D').mean()\n",
    "#target at day is the same as mood at day\n",
    "date_data['target'] =date_data['mood']\n",
    "#droping duplicates\n",
    "date_data.drop_duplicates( keep='first', inplace=True)\n",
    "#filling missing values were NaN means 0\n",
    "values0 = {key: 0 for key in sum_variables}\n",
    "date_data.fillna(value=values0, inplace=True)\n",
    "#to do : think about values he didn't fill yet. although we have xgboost, so shouldn't be a problem\n",
    "#rolling mean\n",
    "lag = 5\n",
    "rolling_variables  = date_data.columns\n",
    "for variable in rolling_variables:\n",
    "    date_data[\"{}_lagged\".format(variable)]=date_data[variable].rolling(window = lag).mean()"
   ]
  },
  {
   "cell_type": "code",
   "execution_count": 140,
   "metadata": {},
   "outputs": [
    {
     "name": "stdout",
     "output_type": "stream",
     "text": [
      "[15:07:31] WARNING: src/objective/regression_obj.cu:152: reg:linear is now deprecated in favor of reg:squarederror.\n"
     ]
    },
    {
     "data": {
      "text/plain": [
       "XGBRegressor(base_score=0.5, booster='gbtree', colsample_bylevel=1,\n",
       "       colsample_bynode=1, colsample_bytree=1, gamma=0,\n",
       "       importance_type='gain', learning_rate=0.1, max_delta_step=0,\n",
       "       max_depth=3, min_child_weight=1, missing=None, n_estimators=100,\n",
       "       n_jobs=1, nthread=None, objective='reg:linear', random_state=0,\n",
       "       reg_alpha=0, reg_lambda=1, scale_pos_weight=1, seed=None,\n",
       "       silent=None, subsample=1, verbosity=1)"
      ]
     },
     "execution_count": 140,
     "metadata": {},
     "output_type": "execute_result"
    }
   ],
   "source": [
    "#creating variables to drop\n",
    "list_var = list(rolling_variables)\n",
    "list_var.remove('target')\n",
    "#fill target   MSE: 0.2652, don't think it's valid\n",
    "#date_data['target'].fillna(method = \"ffill\", inplace=1)\n",
    "\n",
    "# drop nan target MSE: 0.3179\n",
    "#133 nan targets\n",
    "\n",
    "date_data.dropna(axis = 0,subset = [\"target\"], inplace=1)\n",
    "\n",
    "\n",
    "feature_data = np.array(date_data.reset_index(level='id').drop(axis=1, labels='id').drop(axis=1, labels = list_var))\n",
    "x, y =feature_data[:,1:], feature_data[:,0]\n",
    "\n",
    "seed = 42\n",
    "test_size = 0.33\n",
    "X_train, X_test, y_train, y_test = train_test_split(x, y, test_size=test_size, random_state=seed)\n",
    "model = XGBRegressor()\n",
    "model.fit(X_train, y_train)"
   ]
  },
  {
   "cell_type": "code",
   "execution_count": 141,
   "metadata": {},
   "outputs": [
    {
     "name": "stdout",
     "output_type": "stream",
     "text": [
      "MSE: 0.3179\n"
     ]
    }
   ],
   "source": [
    "y_pred = model.predict(X_test)\n",
    "predictions = [value for value in y_pred]\n",
    "#print(y_test, predictions)\n",
    "accuracy = mean_squared_error(y_test, predictions)\n",
    "print(\"MSE: {:.4}\" .format(accuracy))"
   ]
  },
  {
   "cell_type": "code",
   "execution_count": 151,
   "metadata": {},
   "outputs": [
    {
     "name": "stdout",
     "output_type": "stream",
     "text": [
      "MSE: 0.5868\n"
     ]
    }
   ],
   "source": [
    "#baseline  MSE: 0.5868\n",
    "baseline_vector = []\n",
    "for i, m in enumerate(date_data['mood']):\n",
    "    if i==0:\n",
    "        continue\n",
    "    baseline_vector.append(date_data['mood'].iloc[i-1])\n",
    "\n",
    "x, y =np.array(baseline_vector).reshape(-1,1) , np.array(date_data['mood']).reshape(-1,1)\n",
    "\n",
    "accuracy = mean_squared_error(y[1:], x)\n",
    "print(\"MSE: {:.4}\" .format(accuracy))"
   ]
  },
  {
   "cell_type": "code",
   "execution_count": 152,
   "metadata": {},
   "outputs": [
    {
     "name": "stdout",
     "output_type": "stream",
     "text": [
      "1259\n"
     ]
    }
   ],
   "source": []
  }
 ],
 "metadata": {
  "kernelspec": {
   "display_name": "Python 3",
   "language": "python",
   "name": "python3"
  },
  "language_info": {
   "codemirror_mode": {
    "name": "ipython",
    "version": 3
   },
   "file_extension": ".py",
   "mimetype": "text/x-python",
   "name": "python",
   "nbconvert_exporter": "python",
   "pygments_lexer": "ipython3",
   "version": "3.6.6"
  }
 },
 "nbformat": 4,
 "nbformat_minor": 2
}
