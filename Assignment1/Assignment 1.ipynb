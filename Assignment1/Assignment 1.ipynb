{
 "cells": [
  {
   "cell_type": "code",
   "execution_count": 1,
   "metadata": {},
   "outputs": [],
   "source": [
    "import numpy as np\n",
    "import pandas as pd\n",
    "import matplotlib.pyplot as plt\n"
   ]
  },
  {
   "cell_type": "code",
   "execution_count": 2,
   "metadata": {},
   "outputs": [],
   "source": [
    "data = pd.read_csv('Data/dataset_mood_smartphone.csv')"
   ]
  },
  {
   "cell_type": "code",
   "execution_count": 7,
   "metadata": {},
   "outputs": [
    {
     "name": "stdout",
     "output_type": "stream",
     "text": [
      "1884560\n"
     ]
    },
    {
     "data": {
      "text/html": [
       "<div>\n",
       "<table border=\"1\" class=\"dataframe\">\n",
       "  <thead>\n",
       "    <tr style=\"text-align: right;\">\n",
       "      <th></th>\n",
       "      <th>Unnamed: 0</th>\n",
       "      <th>id</th>\n",
       "      <th>time</th>\n",
       "      <th>variable</th>\n",
       "      <th>value</th>\n",
       "    </tr>\n",
       "  </thead>\n",
       "  <tbody>\n",
       "    <tr>\n",
       "      <th>0</th>\n",
       "      <td>1</td>\n",
       "      <td>AS14.01</td>\n",
       "      <td>2014-02-26 13:00:00.000</td>\n",
       "      <td>mood</td>\n",
       "      <td>6.0</td>\n",
       "    </tr>\n",
       "    <tr>\n",
       "      <th>1</th>\n",
       "      <td>2</td>\n",
       "      <td>AS14.01</td>\n",
       "      <td>2014-02-26 15:00:00.000</td>\n",
       "      <td>mood</td>\n",
       "      <td>6.0</td>\n",
       "    </tr>\n",
       "    <tr>\n",
       "      <th>2</th>\n",
       "      <td>3</td>\n",
       "      <td>AS14.01</td>\n",
       "      <td>2014-02-26 18:00:00.000</td>\n",
       "      <td>mood</td>\n",
       "      <td>6.0</td>\n",
       "    </tr>\n",
       "    <tr>\n",
       "      <th>3</th>\n",
       "      <td>4</td>\n",
       "      <td>AS14.01</td>\n",
       "      <td>2014-02-26 21:00:00.000</td>\n",
       "      <td>mood</td>\n",
       "      <td>7.0</td>\n",
       "    </tr>\n",
       "    <tr>\n",
       "      <th>4</th>\n",
       "      <td>5</td>\n",
       "      <td>AS14.01</td>\n",
       "      <td>2014-02-27 09:00:00.000</td>\n",
       "      <td>mood</td>\n",
       "      <td>6.0</td>\n",
       "    </tr>\n",
       "  </tbody>\n",
       "</table>\n",
       "</div>"
      ],
      "text/plain": [
       "   Unnamed: 0       id                     time variable  value\n",
       "0           1  AS14.01  2014-02-26 13:00:00.000     mood    6.0\n",
       "1           2  AS14.01  2014-02-26 15:00:00.000     mood    6.0\n",
       "2           3  AS14.01  2014-02-26 18:00:00.000     mood    6.0\n",
       "3           4  AS14.01  2014-02-26 21:00:00.000     mood    7.0\n",
       "4           5  AS14.01  2014-02-27 09:00:00.000     mood    6.0"
      ]
     },
     "execution_count": 7,
     "metadata": {},
     "output_type": "execute_result"
    }
   ],
   "source": [
    "print(data.size)\n",
    "data.head()"
   ]
  },
  {
   "cell_type": "code",
   "execution_count": 15,
   "metadata": {},
   "outputs": [
    {
     "name": "stdout",
     "output_type": "stream",
     "text": [
      "There are 27 users in this dataset\n",
      "Tere are 19 variables in this dataset and these variables are ['mood' 'circumplex.arousal' 'circumplex.valence' 'activity' 'screen'\n",
      " 'call' 'sms' 'appCat.builtin' 'appCat.communication'\n",
      " 'appCat.entertainment' 'appCat.finance' 'appCat.game' 'appCat.office'\n",
      " 'appCat.other' 'appCat.social' 'appCat.travel' 'appCat.unknown'\n",
      " 'appCat.utilities' 'appCat.weather']\n"
     ]
    }
   ],
   "source": [
    "print(\"There are {} users in this dataset\".format(len(data[\"id\"].unique())))\n",
    "print(\"Tere are {} variables in this dataset and these variables are {}\".format(len(data[\"variable\"].unique()), data[\"variable\"].unique()))"
   ]
  },
  {
   "cell_type": "code",
   "execution_count": 23,
   "metadata": {},
   "outputs": [
    {
     "name": "stdout",
     "output_type": "stream",
     "text": [
      "The average num of timesteps per user is 13959.7\n"
     ]
    }
   ],
   "source": [
    "users = data[\"id\"].unique()\n",
    "average_num_of_timesteps = np.mean([len(data[data[\"id\"]==user]) for user in users])\n",
    "print(\"The average num of timesteps per user is {:.6}\".format(average_num_of_timesteps))\n"
   ]
  },
  {
   "cell_type": "code",
   "execution_count": 34,
   "metadata": {},
   "outputs": [
    {
     "name": "stdout",
     "output_type": "stream",
     "text": [
      "Average mood is 6.993 with std of 1.033\n"
     ]
    },
    {
     "data": {
      "image/png": "[encoded data removed]",
      "text/plain": [
       "<matplotlib.figure.Figure at 0x11bbc4550>"
      ]
     },
     "metadata": {},
     "output_type": "display_data"
    }
   ],
   "source": [
    "mood_values = data[data[\"variable\"]==\"mood\"][\"value\"]\n",
    "print(\"Average mood is {:.4} with std of {:.4}\".format(np.mean(mood_values), np.std(mood_values)))\n",
    "plt.hist(mood_values)\n",
    "plt.xlabel(\"Mood value\")\n",
    "plt.show()"
   ]
  },
  {
   "cell_type": "code",
   "execution_count": 102,
   "metadata": {},
   "outputs": [
    {
     "name": "stdout",
     "output_type": "stream",
     "text": [
      "Average mood per user is 6.995 with std of 0.377\n"
     ]
    },
    {
     "data": {
      "image/png": "[encoded data removed]",
      "text/plain": [
       "<matplotlib.figure.Figure at 0x13007c4a8>"
      ]
     },
     "metadata": {},
     "output_type": "display_data"
    }
   ],
   "source": [
    "mood_values_per_user = data[data[\"variable\"]==\"mood\"].groupby(by=\"id\")['value'].mean()\n",
    "print(\"Average mood per user is {:.4} with std of {:.4}\".format(np.mean(mood_values_per_user), np.std(mood_values_per_user)))\n",
    "plt.hist(mood_values_per_user)\n",
    "plt.show()"
   ]
  },
  {
   "cell_type": "code",
   "execution_count": 97,
   "metadata": {},
   "outputs": [
    {
     "name": "stdout",
     "output_type": "stream",
     "text": [
      "same\n"
     ]
    }
   ],
   "source": [
    "#helper function to compare two dates\n",
    "\n",
    "def slice(datum, x = 10):\n",
    "    return datum[:x]\n",
    "\n",
    "def get_date_data_frame(data):\n",
    "    return pd.DataFrame(list(map(slice , data[\"time\"])))\n",
    "def compare_two_dates(date1, date2):\n",
    "   \n",
    "    if (date1[:4])>(date2[:4]):\n",
    "        return date1\n",
    "    elif (date1[:4])<(date2[:4]):\n",
    "        return date2\n",
    "    elif (date1[5:7])>(date2[5:7]):\n",
    "            return date1\n",
    "    elif (date1[5:7])<(date2[5:7]):\n",
    "        return date2\n",
    "    elif (date1[8:])>(date2[8:]):\n",
    "        return date1\n",
    "    elif (date1[8:])<(date2[8:]):\n",
    "        return date2\n",
    "    else: \n",
    "        return \"same\"\n",
    "dates = get_date(data)[:2]\n",
    "bigger_date = compare_two_dates(dates.iloc(0)[0][0], dates.iloc(1)[0][0])\n",
    "print(bigger_date)\n",
    "\n",
    "#https://stackoverflow.com/questions/22798934/pandas-long-to-wide-reshape-by-two-variables"
   ]
  },
  {
   "cell_type": "code",
   "execution_count": 113,
   "metadata": {},
   "outputs": [
    {
     "data": {
      "text/plain": [
       "dates\n",
       "2014-02-26    6.250000\n",
       "2014-02-27    6.333333\n",
       "2014-03-04    7.000000\n",
       "2014-03-05    7.166667\n",
       "2014-03-06    7.222222\n",
       "2014-03-07    7.444444\n",
       "2014-03-08    7.300000\n",
       "2014-03-09    7.200000\n",
       "2014-03-10    7.000000\n",
       "2014-03-11    6.400000\n",
       "2014-03-12    6.700000\n",
       "2014-03-13    7.083333\n",
       "2014-03-14    7.434783\n",
       "2014-03-15    6.461538\n",
       "2014-03-16    6.461538\n",
       "2014-03-17    6.379310\n",
       "2014-03-18    7.137931\n",
       "2014-03-19    7.000000\n",
       "2014-03-20    6.605263\n",
       "2014-03-21    6.885246\n",
       "2014-03-22    6.746479\n",
       "2014-03-23    6.987342\n",
       "2014-03-24    6.753247\n",
       "2014-03-25    6.831325\n",
       "2014-03-26    6.916667\n",
       "2014-03-27    6.897727\n",
       "2014-03-28    7.090909\n",
       "2014-03-29    7.433333\n",
       "2014-03-30    6.988372\n",
       "2014-03-31    6.977778\n",
       "                ...   \n",
       "2014-05-10    7.264706\n",
       "2014-05-11    6.794118\n",
       "2014-05-12    7.029412\n",
       "2014-05-13    7.115385\n",
       "2014-05-14    6.666667\n",
       "2014-05-15    6.421053\n",
       "2014-05-16    7.133333\n",
       "2014-05-17    7.071429\n",
       "2014-05-18    6.800000\n",
       "2014-05-19    7.000000\n",
       "2014-05-20    7.000000\n",
       "2014-05-21    6.375000\n",
       "2014-05-22    6.357143\n",
       "2014-05-23    6.250000\n",
       "2014-05-24    7.066667\n",
       "2014-05-25    7.083333\n",
       "2014-05-26    6.533333\n",
       "2014-05-27    6.066667\n",
       "2014-05-28    6.733333\n",
       "2014-05-29    7.153846\n",
       "2014-05-30    6.866667\n",
       "2014-05-31    7.000000\n",
       "2014-06-01    6.833333\n",
       "2014-06-02    6.750000\n",
       "2014-06-03    7.800000\n",
       "2014-06-04    7.000000\n",
       "2014-06-05    7.000000\n",
       "2014-06-06    7.500000\n",
       "2014-06-07    8.000000\n",
       "2014-06-08    6.500000\n",
       "Name: value, dtype: float64"
      ]
     },
     "execution_count": 113,
     "metadata": {},
     "output_type": "execute_result"
    }
   ],
   "source": [
    "data[\"dates\"] = get_date_data_frame(data)\n",
    "data[data[\"variable\"]==\"mood\"].groupby(by=\"dates\")['value'].mean()"
   ]
  }
 ],
 "metadata": {
  "kernelspec": {
   "display_name": "Python 3",
   "language": "python",
   "name": "python3"
  },
  "language_info": {
   "codemirror_mode": {
    "name": "ipython",
    "version": 3
   },
   "file_extension": ".py",
   "mimetype": "text/x-python",
   "name": "python",
   "nbconvert_exporter": "python",
   "pygments_lexer": "ipython3",
   "version": "3.7.1"
  }
 },
 "nbformat": 4,
 "nbformat_minor": 2
}
